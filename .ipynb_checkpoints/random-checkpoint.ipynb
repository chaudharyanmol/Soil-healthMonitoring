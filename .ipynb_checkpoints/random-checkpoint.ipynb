{
 "cells": [
  {
   "cell_type": "code",
   "execution_count": null,
   "id": "fe685c21-0e6c-4216-a63a-daf2722c6dad",
   "metadata": {},
   "outputs": [],
   "source": [
    "import pandas as pd\n",
    "import numpy as np\n",
    "import seaborn as sns\n",
    "import matplotlib.pyplot as plt\n",
    "from sklearn import tree, ensemble\n",
    "from sklearn.naive_bayes import GaussianNB\n",
    "from sklearn.svm import SVC\n",
    "from sklearn.neighbors import KNeighborsClassifier\n",
    "from sklearn.metrics import accuracy_score, classification_report, confusion_matrix, ConfusionMatrixDisplay\n",
    "from sklearn.model_selection import train_test_split, GridSearchCV\n",
    "\n",
    "# Load the data\n",
    "rawData = pd.read_csv('soil_health_monitoring_system.csv')\n",
    "rawData.head()\n"
   ]
  },
  {
   "cell_type": "code",
   "execution_count": null,
   "id": "67f44f2f-25af-416f-a1e1-5efe4eb79ca7",
   "metadata": {},
   "outputs": [],
   "source": [
    "rawData = rawData.drop(['State', 'City', 'Weather Condition'], axis=1)"
   ]
  },
  {
   "cell_type": "code",
   "execution_count": null,
   "id": "bb7ad70a-71a5-49d0-b41f-d090a86edaaa",
   "metadata": {},
   "outputs": [],
   "source": [
    "# Correlation heatmap\n",
    "corr = data.corr()\n",
    "f, ax = plt.subplots(figsize=(6, 6))\n",
    "sns.heatmap(corr, cmap=sns.color_palette(\"BuGn_r\"), vmin=-1.0, vmax=1.0, square=True, ax=ax)\n",
    "plt.title(\"Feature Correlation Heatmap\")\n",
    "plt.show()"
   ]
  },
  {
   "cell_type": "code",
   "execution_count": null,
   "id": "8e4b6721-2ff0-420f-9608-9ffe79f80641",
   "metadata": {},
   "outputs": [],
   "source": [
    "# Prepare the data\n",
    "data = rawData.copy()\n",
    "data = data.drop('Soil Health', axis=1)"
   ]
  },
  {
   "cell_type": "code",
   "execution_count": null,
   "id": "bd38988f-9dda-4a02-90d7-18b961dd35bf",
   "metadata": {},
   "outputs": [],
   "source": [
    "# Feature distribution\n",
    "features = data.copy()\n",
    "features.hist(bins=50, figsize=(10, 10), color='green', grid=False)\n",
    "plt.title(\"Feature Distributions\")\n",
    "plt.show()\n",
    "\n"
   ]
  },
  {
   "cell_type": "code",
   "execution_count": null,
   "id": "39377f19-37f3-423c-a550-116c308d64a0",
   "metadata": {},
   "outputs": [],
   "source": [
    "# Log transformation\n",
    "transformedFeatures = features.apply(lambda x: np.log10(x) if np.issubdtype(x.dtype, np.number) else x)\n",
    "transformedFeatures.hist(bins=50, figsize=(10, 10), color='green', grid=False)\n",
    "plt.title(\"Log Transformed Feature Distributions\")\n",
    "plt.show()"
   ]
  },
  {
   "cell_type": "code",
   "execution_count": null,
   "id": "bb16151b-0fa5-4bcd-ae41-a9dec84acb54",
   "metadata": {},
   "outputs": [],
   "source": [
    "\n",
    "# Train-test split\n",
    "labels = rawData[['Soil Health']]\n",
    "trainInput, validationInput, trainTarget, validationTarget = train_test_split(transformedFeatures, labels, test_size=0.2, shuffle=True, random_state=42)\n",
    "print(\"Train Data Shape: \", trainInput.shape)\n",
    "\n",
    "trainTarget = trainTarget.values.ravel()"
   ]
  },
  {
   "cell_type": "code",
   "execution_count": null,
   "id": "a03d7544-0c85-4505-b233-53a077e78db0",
   "metadata": {},
   "outputs": [],
   "source": [
    "# Train classifiers\n",
    "svcClf = SVC()\n",
    "svcClf.fit(trainInput, trainTarget)\n",
    "\n",
    "forestClf = ensemble.RandomForestClassifier()\n",
    "forestClf.fit(trainInput, trainTarget)\n",
    "\n",
    "nbClf = GaussianNB()\n",
    "nbClf.fit(trainInput, trainTarget)\n",
    "\n",
    "knnClf = KNeighborsClassifier()\n",
    "knnClf.fit(trainInput, trainTarget)\n",
    "\n",
    "treeClf = tree.DecisionTreeClassifier()\n",
    "treeClf.fit(trainInput, trainTarget)"
   ]
  },
  {
   "cell_type": "code",
   "execution_count": null,
   "id": "46d4af21-4382-4476-b073-7173a981746c",
   "metadata": {},
   "outputs": [],
   "source": [
    "# Evaluate models\n",
    "models = [svcClf, forestClf, nbClf, knnClf, treeClf]\n",
    "accs = []\n",
    "titles = []\n",
    "\n",
    "for model in models:\n",
    "    pred = model.predict(validationInput)\n",
    "    model_acc = accuracy_score(validationTarget, pred)\n",
    "    accs.append(model_acc)\n",
    "    titles.append(type(model).__name__)\n",
    "    print(type(model).__name__, \" accuracy is \", model_acc)"
   ]
  },
  {
   "cell_type": "code",
   "execution_count": null,
   "id": "a3d68ff3-eab2-4bd5-8878-f3591f231710",
   "metadata": {},
   "outputs": [],
   "source": [
    "# Bar plot for accuracy\n",
    "fig = plt.figure(figsize=(10, 5))\n",
    "sns.barplot(x=titles, y=accs)\n",
    "plt.title(\"Model Accuracy Comparison\")\n",
    "plt.ylabel(\"Accuracy\")\n",
    "plt.show()"
   ]
  },
  {
   "cell_type": "code",
   "execution_count": null,
   "id": "48cf8384-853c-43b3-bba5-6f01d3d2e3ff",
   "metadata": {},
   "outputs": [],
   "source": [
    "# Hyperparameter tuning for Random Forest\n",
    "forestClassifier = ensemble.RandomForestClassifier(random_state=42)\n",
    "paramGrid = { \n",
    "    'n_estimators': [200, 300, 500],\n",
    "    'max_features': ['sqrt', 'log2'],  # Remove 'auto'\n",
    "    'max_depth': [4, 5, 6, 7, 8, 9, 10],\n",
    "    'criterion': ['gini', 'entropy']\n",
    "}\n",
    "\n",
    "clf = GridSearchCV(estimator=forestClassifier, param_grid=paramGrid, cv=5)\n",
    "clf.fit(trainInput, trainTarget)\n",
    "\n",
    "print(\"Best Parameters: \", clf.best_params_)"
   ]
  },
  {
   "cell_type": "code",
   "execution_count": null,
   "id": "3bd4609a-c5d6-48f0-b668-2b1f5586edb5",
   "metadata": {},
   "outputs": [],
   "source": [
    "# Train final model with best parameters\n",
    "randomForestModel = ensemble.RandomForestClassifier(criterion='gini', max_depth=10, max_features='sqrt', n_estimators=300, random_state=42)\n",
    "randomForestModel.fit(trainInput, trainTarget)\n",
    "\n",
    "\n",
    "\n"
   ]
  },
  {
   "cell_type": "code",
   "execution_count": null,
   "id": "acc4ce71-b387-4e60-bab1-168fa5200c0d",
   "metadata": {},
   "outputs": [],
   "source": [
    "# Predictions and evaluation\n",
    "predictions = randomForestModel.predict(validationInput)\n",
    "report = classification_report(validationTarget, predictions)\n",
    "print(report)\n",
    "\n",
    "mode_acc = accuracy_score(validationTarget, predictions)\n",
    "print(\"Random Forest Model Accuracy: \", mode_acc)\n"
   ]
  },
  {
   "cell_type": "code",
   "execution_count": null,
   "id": "f3c9fb84-eef6-4a2f-bb98-a972ca5ed607",
   "metadata": {},
   "outputs": [],
   "source": [
    "# Confusion Matrix Visualization\n",
    "cm = confusion_matrix(validationTarget, predictions)\n",
    "disp = ConfusionMatrixDisplay(confusion_matrix=cm)\n",
    "disp.plot(cmap=plt.cm.Blues)\n",
    "plt.title(\"Confusion Matrix\")\n",
    "plt.show()\n",
    "\n"
   ]
  },
  {
   "cell_type": "code",
   "execution_count": null,
   "id": "e5219472-e994-4426-bf9a-8a8c016e5deb",
   "metadata": {},
   "outputs": [],
   "source": [
    "# Feature Importance Visualization\n",
    "importances = randomForestModel.feature_importances_\n",
    "indices = np.argsort(importances)[::-1]\n",
    "feature_names = features.columns\n",
    "\n",
    "plt.figure(figsize=(10, 5))\n",
    "plt.title(\"Feature Importances\")\n",
    "plt.bar(range(trainInput.shape[1]), importances[indices], align='center')\n",
    "plt.xticks(range(trainInput.shape[1]), feature_names[indices], rotation=90)\n",
    "plt.xlim([-1, trainInput.shape[1]])\n",
    "plt.show()"
   ]
  },
  {
   "cell_type": "code",
   "execution_count": null,
   "id": "9c71299d-4089-4855-ae1f-092505fa8560",
   "metadata": {},
   "outputs": [],
   "source": [
    "# ROC Curve (if it's a binary classification problem)\n",
    "from sklearn.metrics import roc_curve, auc\n",
    "\n",
    "if len(np.unique(trainTarget)) == 2:  # Check if binary classification\n",
    "    fpr, tpr, _ = roc_curve(validationTarget, randomForestModel.predict_proba(validationInput)[:, 1])\n",
    "    roc_auc = auc(fpr, tpr)\n",
    "\n",
    "    plt.figure()\n",
    "    plt.plot(fpr, tpr, color='darkorange', lw=2, label='ROC curve (area = %0.2f)' % roc_auc)\n",
    "    plt.plot([0, 1], [0, 1], color='navy', lw=2, linestyle='--')\n",
    "    plt.xlim([0.0, 1.0])\n",
    "    plt.ylim([0.0, 1.05])\n",
    "    plt.xlabel('False Positive Rate')\n",
    "    plt.ylabel('True Positive Rate')\n",
    "    plt.title('Receiver Operating Characteristic')\n",
    "    plt.legend(loc=\"lower right\")\n",
    "    plt.show()"
   ]
  }
 ],
 "metadata": {
  "kernelspec": {
   "display_name": "Python 3 (ipykernel)",
   "language": "python",
   "name": "python3"
  },
  "language_info": {
   "codemirror_mode": {
    "name": "ipython",
    "version": 3
   },
   "file_extension": ".py",
   "mimetype": "text/x-python",
   "name": "python",
   "nbconvert_exporter": "python",
   "pygments_lexer": "ipython3",
   "version": "3.12.6"
  }
 },
 "nbformat": 4,
 "nbformat_minor": 5
}
